{
  "cells": [
    {
      "cell_type": "markdown",
      "metadata": {
        "id": "view-in-github",
        "colab_type": "text"
      },
      "source": [
        "<a href=\"https://colab.research.google.com/github/timenb123/AutoAction/blob/master/vlad/vlad_sd_webui.ipynb\" target=\"_parent\"><img src=\"https://colab.research.google.com/assets/colab-badge.svg\" alt=\"Open In Colab\"/></a>"
      ]
    },
    {
      "cell_type": "markdown",
      "metadata": {
        "id": "h7QCdz2uWH9n"
      },
      "source": [
        "[![Open In Colab](https://colab.research.google.com/assets/colab-badge.svg)](https://colab.research.google.com/github/Van-wise/sd-colab/blob/main/vlad/vlad_sd_webui.ipynb)"
      ]
    },
    {
      "cell_type": "markdown",
      "metadata": {
        "id": "VXm1Vk_5WH9p"
      },
      "source": [
        "https://github.com/vladmandic/automatic\n",
        "\n",
        "https://github.com/Van-wise/sd-colab\n",
        "\n",
        "**如果遇到报错,请联系up：**\n",
        "\n",
        "https://space.bilibili.com/1308057/channel/collectiondetail?sid=1365244\n"
      ]
    },
    {
      "cell_type": "code",
      "execution_count": null,
      "metadata": {
        "id": "GZbi7dHVWH9q"
      },
      "outputs": [],
      "source": [
        "#@title 👇 首次运行！\n",
        "import sys\n",
        "import os\n",
        "import base64\n",
        "from IPython.display import clear_output\n",
        "\n",
        "#Check GPU\n",
        "import tensorflow as tf\n",
        "print(\"TensorFlow version:\", tf.__version__)\n",
        "if tf.test.gpu_device_name():\n",
        "    print(\"GPU is available\")\n",
        "else:\n",
        "    print(\"GPU is NOT available\")\n",
        "    raise Exception(\"\\n没有使用GPU，请在代码执行程序-更改运行时类型-设置为GPU！\\n如果不能使用GPU，建议更换账号！\")\n",
        "\n",
        "automatic = '/content/automatic'\n",
        "w = base64.b64decode((\"c2Qtd2VidWk=\").encode('ascii')).decode('ascii')\n",
        "\n",
        "#部署 ubuntu3 环境\n",
        "%cd /content\n",
        "!apt -y update -qq\n",
        "!wget http://launchpadlibrarian.net/367274644/libgoogle-perftools-dev_2.5-2.2ubuntu3_amd64.deb\n",
        "!wget https://launchpad.net/ubuntu/+source/google-perftools/2.5-2.2ubuntu3/+build/14795286/+files/google-perftools_2.5-2.2ubuntu3_all.deb\n",
        "!wget https://launchpad.net/ubuntu/+source/google-perftools/2.5-2.2ubuntu3/+build/14795286/+files/libtcmalloc-minimal4_2.5-2.2ubuntu3_amd64.deb\n",
        "!wget https://launchpad.net/ubuntu/+source/google-perftools/2.5-2.2ubuntu3/+build/14795286/+files/libgoogle-perftools4_2.5-2.2ubuntu3_amd64.deb\n",
        "!apt install -qq libunwind8-dev\n",
        "!dpkg -i *.deb\n",
        "%env LD_PRELOAD=libtcmalloc.so\n",
        "!rm *.deb\n",
        "clear_output ()\n",
        "\n",
        "#部署 GPU 环境\n",
        "!apt -y install -qq aria2 libcairo2-dev pkg-config python3-dev\n",
        "!pip install -q torch==2.0.0+cu118 torchvision==0.15.1+cu118 torchaudio==2.0.1+cu118 torchtext==0.15.1 torchdata==0.6.0 --extra-index-url https://download.pytorch.org/whl/cu118 -U\n",
        "!pip install -q xformers==0.0.19 triton==2.0.0 -U\n",
        "clear_output ()\n",
        "\n",
        "#克隆主项目&常用插件\n",
        "!git clone https://github.com/vladmandic/automatic\n",
        "!git clone https://huggingface.co/embed/negative {automatic}/models/embeddings\n",
        "!git clone https://huggingface.co/embed/lora {automatic}/models/Lora/positive\n",
        "!git clone https://github.com/camenduru/{w}-tunnels {automatic}/extensions/{w}-tunnels\n",
        "!git clone https://github.com/etherealxx/batchlinks-webui {automatic}/extensions/batchlinks-webui\n",
        "\n",
        "#姿势&手势插件\n",
        "!git clone https://github.com/fkunn1326/openpose-editor {automatic}/extensions/openpose-editor\n",
        "#!git clone https://github.com/hnmr293/posex {automatic}/extensions/posex\n",
        "#!git clone https://github.com/nonnonstop/{w}-3d-open-pose-editor {automatic}/extensions/{w}-3d-open-pose-editor\n",
        "#!git clone https://github.com/jexom/{w}-depth-lib {automatic}/extensions/{w}-depth-lib\n",
        "#!git clone https://github.com/deforum-art/deforum-for-automatic1111-webui {automatic}/extensions/deforum-for-automatic1111-webui #deforum 动画\n",
        "\n",
        "#安装中文&主题\n",
        "!rm -r {automatic}/extensions/{w}-bilingual-localization\n",
        "!git clone https://jihulab.com/vanwise/sdwebui-bilingual-localization-zh_cn {automatic}/extensions/{w}-bilingual-localization\n",
        "!mkdir -p {automatic}/localizations\n",
        "!git clone https://github.com/canisminor1990/{w}-kitchen-theme {automatic}/extensions/{w}-kitchen-theme\n",
        "\n",
        "#同步 config.json (可选)\n",
        "%cd {automatic}\n",
        "!rm -r {automatic}/config.json\n",
        "!rm -r {automatic}/ui-config.json\n",
        "!wget -O \"config.json\" \"https://jihulab.com/vanwise/{w}-colab/-/raw/main/vlad-{w}/config.json\"\n",
        "!wget -O \"ui-config.json\" \"https://jihulab.com/vanwise/{w}-colab/-/raw/main/vlad-{w}/ui-config.json\"\n",
        "\n",
        "#下载主模型\n",
        "!aria2c --console-log-level=error -c -x 16 -s 16 -k 1M https://huggingface.co/ckpt/chilloutmix/resolve/main/chilloutmix_NiPrunedFp32Fix.safetensors -d {automatic}/models/Stable-diffusion -o chilloutmix_NiPrunedFp32Fix.safetensors\n",
        "\n",
        "#vae\n",
        "!aria2c --console-log-level=error -c -x 16 -s 16 -k 1M https://huggingface.co/stabilityai/sd-vae-ft-mse-original/resolve/main/vae-ft-mse-840000-ema-pruned.safetensors -d {automatic}/models/VAE -o vae-ft-mse-840000-ema-pruned.safetensors\n",
        "\n",
        "#Lora\n",
        "!aria2c --console-log-level=error -c -x 16 -s 16 -k 1M https://civitai.com/api/download/models/16557 -d {automatic}/models/Lora -o ShojoVibev_11.safetensors\n",
        "\n",
        "#ControlNet\n",
        "!aria2c --console-log-level=error -c -x 16 -s 16 -k 1M https://huggingface.co/ckpt/ControlNet-v1-1/resolve/main/control_v11e_sd15_ip2p_fp16.safetensors -d {automatic}/extensions-builtin/{w}-controlnet/models -o control_v11e_sd15_ip2p_fp16.safetensors\n",
        "!aria2c --console-log-level=error -c -x 16 -s 16 -k 1M https://huggingface.co/ckpt/ControlNet-v1-1/resolve/main/control_v11e_sd15_shuffle_fp16.safetensors -d {automatic}/extensions-builtin/{w}-controlnet/models -o control_v11e_sd15_shuffle_fp16.safetensors\n",
        "!aria2c --console-log-level=error -c -x 16 -s 16 -k 1M https://huggingface.co/ckpt/ControlNet-v1-1/resolve/main/control_v11p_sd15_canny_fp16.safetensors -d {automatic}/extensions-builtin/{w}-controlnet/models -o control_v11p_sd15_canny_fp16.safetensors\n",
        "!aria2c --console-log-level=error -c -x 16 -s 16 -k 1M https://huggingface.co/ckpt/ControlNet-v1-1/resolve/main/control_v11f1p_sd15_depth_fp16.safetensors -d {automatic}/extensions-builtin/{w}-controlnet/models -o control_v11f1p_sd15_depth_fp16.safetensors\n",
        "!aria2c --console-log-level=error -c -x 16 -s 16 -k 1M https://huggingface.co/ckpt/ControlNet-v1-1/resolve/main/control_v11p_sd15_inpaint_fp16.safetensors -d {automatic}/extensions-builtin/{w}-controlnet/models -o control_v11p_sd15_inpaint_fp16.safetensors\n",
        "!aria2c --console-log-level=error -c -x 16 -s 16 -k 1M https://huggingface.co/ckpt/ControlNet-v1-1/resolve/main/control_v11p_sd15_lineart_fp16.safetensors -d {automatic}/extensions-builtin/{w}-controlnet/models -o control_v11p_sd15_lineart_fp16.safetensors\n",
        "!aria2c --console-log-level=error -c -x 16 -s 16 -k 1M https://huggingface.co/ckpt/ControlNet-v1-1/resolve/main/control_v11p_sd15_mlsd_fp16.safetensors -d {automatic}/extensions-builtin/{w}-controlnet/models -o control_v11p_sd15_mlsd_fp16.safetensors\n",
        "!aria2c --console-log-level=error -c -x 16 -s 16 -k 1M https://huggingface.co/ckpt/ControlNet-v1-1/resolve/main/control_v11p_sd15_normalbae_fp16.safetensors -d {automatic}/extensions-builtin/{w}-controlnet/models -o control_v11p_sd15_normalbae_fp16.safetensors\n",
        "!aria2c --console-log-level=error -c -x 16 -s 16 -k 1M https://huggingface.co/ckpt/ControlNet-v1-1/resolve/main/control_v11p_sd15_openpose_fp16.safetensors -d {automatic}/extensions-builtin/{w}-controlnet/models -o control_v11p_sd15_openpose_fp16.safetensors\n",
        "!aria2c --console-log-level=error -c -x 16 -s 16 -k 1M https://huggingface.co/ckpt/ControlNet-v1-1/resolve/main/control_v11p_sd15_scribble_fp16.safetensors -d {automatic}/extensions-builtin/{w}-controlnet/models -o control_v11p_sd15_scribble_fp16.safetensors\n",
        "!aria2c --console-log-level=error -c -x 16 -s 16 -k 1M https://huggingface.co/ckpt/ControlNet-v1-1/resolve/main/control_v11p_sd15_seg_fp16.safetensors -d {automatic}/extensions-builtin/{w}-controlnet/models -o control_v11p_sd15_seg_fp16.safetensors\n",
        "!aria2c --console-log-level=error -c -x 16 -s 16 -k 1M https://huggingface.co/ckpt/ControlNet-v1-1/resolve/main/control_v11p_sd15_softedge_fp16.safetensors -d {automatic}/extensions-builtin/{w}-controlnet/models -o control_v11p_sd15_softedge_fp16.safetensors\n",
        "!aria2c --console-log-level=error -c -x 16 -s 16 -k 1M https://huggingface.co/ckpt/ControlNet-v1-1/resolve/main/control_v11p_sd15s2_lineart_anime_fp16.safetensors -d {automatic}/extensions-builtin/{w}-controlnet/models -o control_v11p_sd15s2_lineart_anime_fp16.safetensors\n",
        "!aria2c --console-log-level=error -c -x 16 -s 16 -k 1M https://huggingface.co/ckpt/ControlNet-v1-1/resolve/main/control_v11f1e_sd15_tile_fp16.safetensors -d {automatic}/extensions-builtin/{w}-controlnet/models -o control_v11f1e_sd15_tile_fp16.safetensors\n",
        "!aria2c --console-log-level=error -c -x 16 -s 16 -k 1M https://huggingface.co/ckpt/ControlNet-v1-1/raw/main/control_v11e_sd15_ip2p_fp16.yaml -d {automatic}/extensions-builtin/{w}-controlnet/models -o control_v11e_sd15_ip2p_fp16.yaml\n",
        "!aria2c --console-log-level=error -c -x 16 -s 16 -k 1M https://huggingface.co/ckpt/ControlNet-v1-1/raw/main/control_v11e_sd15_shuffle_fp16.yaml -d {automatic}/extensions-builtin/{w}-controlnet/models -o control_v11e_sd15_shuffle_fp16.yaml\n",
        "!aria2c --console-log-level=error -c -x 16 -s 16 -k 1M https://huggingface.co/ckpt/ControlNet-v1-1/raw/main/control_v11p_sd15_canny_fp16.yaml -d {automatic}/extensions-builtin/{w}-controlnet/models -o control_v11p_sd15_canny_fp16.yaml\n",
        "!aria2c --console-log-level=error -c -x 16 -s 16 -k 1M https://huggingface.co/ckpt/ControlNet-v1-1/raw/main/control_v11f1p_sd15_depth_fp16.yaml -d {automatic}/extensions-builtin/{w}-controlnet/models -o control_v11f1p_sd15_depth_fp16.yaml\n",
        "!aria2c --console-log-level=error -c -x 16 -s 16 -k 1M https://huggingface.co/ckpt/ControlNet-v1-1/raw/main/control_v11p_sd15_inpaint_fp16.yaml -d {automatic}/extensions-builtin/{w}-controlnet/models -o control_v11p_sd15_inpaint_fp16.yaml\n",
        "!aria2c --console-log-level=error -c -x 16 -s 16 -k 1M https://huggingface.co/ckpt/ControlNet-v1-1/raw/main/control_v11p_sd15_lineart_fp16.yaml -d {automatic}/extensions-builtin/{w}-controlnet/models -o control_v11p_sd15_lineart_fp16.yaml\n",
        "!aria2c --console-log-level=error -c -x 16 -s 16 -k 1M https://huggingface.co/ckpt/ControlNet-v1-1/raw/main/control_v11p_sd15_mlsd_fp16.yaml -d {automatic}/extensions-builtin/{w}-controlnet/models -o control_v11p_sd15_mlsd_fp16.yaml\n",
        "!aria2c --console-log-level=error -c -x 16 -s 16 -k 1M https://huggingface.co/ckpt/ControlNet-v1-1/raw/main/control_v11p_sd15_normalbae_fp16.yaml -d {automatic}/extensions-builtin/{w}-controlnet/models -o control_v11p_sd15_normalbae_fp16.yaml\n",
        "!aria2c --console-log-level=error -c -x 16 -s 16 -k 1M https://huggingface.co/ckpt/ControlNet-v1-1/raw/main/control_v11p_sd15_openpose_fp16.yaml -d {automatic}/extensions-builtin/{w}-controlnet/models -o control_v11p_sd15_openpose_fp16.yaml\n",
        "!aria2c --console-log-level=error -c -x 16 -s 16 -k 1M https://huggingface.co/ckpt/ControlNet-v1-1/raw/main/control_v11p_sd15_scribble_fp16.yaml -d {automatic}/extensions-builtin/{w}-controlnet/models -o control_v11p_sd15_scribble_fp16.yaml\n",
        "!aria2c --console-log-level=error -c -x 16 -s 16 -k 1M https://huggingface.co/ckpt/ControlNet-v1-1/raw/main/control_v11p_sd15_seg_fp16.yaml -d {automatic}/extensions-builtin/{w}-controlnet/models -o control_v11p_sd15_seg_fp16.yaml\n",
        "!aria2c --console-log-level=error -c -x 16 -s 16 -k 1M https://huggingface.co/ckpt/ControlNet-v1-1/raw/main/control_v11p_sd15_softedge_fp16.yaml -d {automatic}/extensions-builtin/{w}-controlnet/models -o control_v11p_sd15_softedge_fp16.yaml\n",
        "!aria2c --console-log-level=error -c -x 16 -s 16 -k 1M https://huggingface.co/ckpt/ControlNet-v1-1/raw/main/control_v11p_sd15s2_lineart_anime_fp16.yaml -d {automatic}/extensions-builtin/{w}-controlnet/models -o control_v11p_sd15s2_lineart_anime_fp16.yaml\n",
        "!aria2c --console-log-level=error -c -x 16 -s 16 -k 1M https://huggingface.co/ckpt/ControlNet-v1-1/raw/main/control_v11f1e_sd15_tile_fp16.yaml -d {automatic}/extensions-builtin/{w}-controlnet/models -o control_v11f1e_sd15_tile_fp16.yaml\n",
        "!aria2c --console-log-level=error -c -x 16 -s 16 -k 1M https://huggingface.co/ckpt/ControlNet-v1-1/resolve/main/t2iadapter_style_sd14v1.pth -d {automatic}/extensions-builtin/{w}-controlnet/models -o t2iadapter_style_sd14v1.pth\n",
        "!aria2c --console-log-level=error -c -x 16 -s 16 -k 1M https://huggingface.co/ckpt/ControlNet-v1-1/resolve/main/t2iadapter_sketch_sd14v1.pth -d {automatic}/extensions-builtin/{w}-controlnet/models -o t2iadapter_sketch_sd14v1.pth\n",
        "!aria2c --console-log-level=error -c -x 16 -s 16 -k 1M https://huggingface.co/ckpt/ControlNet-v1-1/resolve/main/t2iadapter_seg_sd14v1.pth -d {automatic}/extensions-builtin/{w}-controlnet/models -o t2iadapter_seg_sd14v1.pth\n",
        "!aria2c --console-log-level=error -c -x 16 -s 16 -k 1M https://huggingface.co/ckpt/ControlNet-v1-1/resolve/main/t2iadapter_openpose_sd14v1.pth -d {automatic}/extensions-builtin/{w}-controlnet/models -o t2iadapter_openpose_sd14v1.pth\n",
        "!aria2c --console-log-level=error -c -x 16 -s 16 -k 1M https://huggingface.co/ckpt/ControlNet-v1-1/resolve/main/t2iadapter_keypose_sd14v1.pth -d {automatic}/extensions-builtin/{w}-controlnet/models -o t2iadapter_keypose_sd14v1.pth\n",
        "!aria2c --console-log-level=error -c -x 16 -s 16 -k 1M https://huggingface.co/ckpt/ControlNet-v1-1/resolve/main/t2iadapter_depth_sd14v1.pth -d {automatic}/extensions-builtin/{w}-controlnet/models -o t2iadapter_depth_sd14v1.pth\n",
        "!aria2c --console-log-level=error -c -x 16 -s 16 -k 1M https://huggingface.co/ckpt/ControlNet-v1-1/resolve/main/t2iadapter_color_sd14v1.pth -d {automatic}/extensions-builtin/{w}-controlnet/models -o t2iadapter_color_sd14v1.pth\n",
        "!aria2c --console-log-level=error -c -x 16 -s 16 -k 1M https://huggingface.co/ckpt/ControlNet-v1-1/resolve/main/t2iadapter_canny_sd14v1.pth -d {automatic}/extensions-builtin/{w}-controlnet/models -o t2iadapter_canny_sd14v1.pth\n",
        "!aria2c --console-log-level=error -c -x 16 -s 16 -k 1M https://huggingface.co/ckpt/ControlNet-v1-1/resolve/main/t2iadapter_canny_sd15v2.pth -d {automatic}/extensions-builtin/{w}-controlnet/models -o t2iadapter_canny_sd15v2.pth\n",
        "!aria2c --console-log-level=error -c -x 16 -s 16 -k 1M https://huggingface.co/ckpt/ControlNet-v1-1/resolve/main/t2iadapter_depth_sd15v2.pth -d {automatic}/extensions-builtin/{w}-controlnet/models -o t2iadapter_depth_sd15v2.pth\n",
        "!aria2c --console-log-level=error -c -x 16 -s 16 -k 1M https://huggingface.co/ckpt/ControlNet-v1-1/resolve/main/t2iadapter_sketch_sd15v2.pth -d {automatic}/extensions-builtin/{w}-controlnet/models -o t2iadapter_sketch_sd15v2.pth\n",
        "!aria2c --console-log-level=error -c -x 16 -s 16 -k 1M https://huggingface.co/ckpt/ControlNet-v1-1/resolve/main/t2iadapter_zoedepth_sd15v1.pth -d {automatic}/extensions-builtin/{w}-controlnet/models -o t2iadapter_zoedepth_sd15v1.pth\n",
        "clear_output ()\n",
        "\n",
        "#安装requirements\n",
        "!pip install -r {automatic}/requirements.txt\n",
        "!pip install pycloudflared\n",
        "clear_output ()\n",
        "\n",
        "#运行installer.py\n",
        "!python installer.py\n",
        "clear_output ()\n",
        "\n",
        "#启动\n",
        "%cd {automatic}\n",
        "!python launch.py --share --listen --no-download --theme=dark --disable-safe-unpickle --skip-update"
      ]
    },
    {
      "cell_type": "code",
      "execution_count": null,
      "metadata": {
        "id": "A5qgrK9JWH9s"
      },
      "outputs": [],
      "source": [
        "#@title 👇启动 SDwebui\n",
        "%cd {automatic}\n",
        "!python launch.py --share --listen --no-download --theme=dark --disable-safe-unpickle --skip-update"
      ]
    },
    {
      "cell_type": "code",
      "execution_count": null,
      "metadata": {
        "id": "ie9718kQWH9t"
      },
      "outputs": [],
      "source": [
        "#@title 链接谷歌硬盘！\n",
        "import sys\n",
        "import os\n",
        "import base64\n",
        "import importlib.util\n",
        "from IPython.display import clear_output\n",
        "\n",
        "sdw = base64.b64decode((\"c3RhYmxlLWRpZmZ1c2lvbi13ZWJ1aQ==\").encode('ascii')).decode('ascii')\n",
        "w = base64.b64decode((\"c2Qtd2VidWk=\").encode('ascii')).decode('ascii')\n",
        "gwebui_dir = f'/content/drive/MyDrive/{sdw}'\n",
        "automatic = '/content/automatic'\n",
        "\n",
        "#装载 GoogleDrive\n",
        "from google.colab import drive\n",
        "drive.mount('/content/drive')\n",
        "\n",
        "#链接outputs\n",
        "!mkdir -p {gwebui_dir}/outputs\n",
        "!test -d {automatic}/outputs && test -d {gwebui_dir}/outputs && ln -sf {gwebui_dir}/outputs {automatic}/outputs\n",
        "\n",
        "#链接 models\n",
        "!mkdir -p {gwebui_dir}/models/Stable-diffusion\n",
        "!test -d {automatic}/models/Stable-diffusion && test -d {gwebui_dir}/models/Stable-diffusion && ln -sf {gwebui_dir}/models/Stable-diffusion {automatic}/models/Stable-diffusion\n",
        "\n",
        "#链接 Lora\n",
        "!mkdir -p {gwebui_dir}/extensions/{w}-additional-networks/models/lora\n",
        "!test -d {automatic}/extensions/{w}-additional-networks/models/lora && test -d {gwebui_dir}/extensions/{w}-additional-networks/models/lora && ln -sf {gwebui_dir}/extensions/{w}-additional-networks/models/lora {automatic}/extensions/{w}-additional-networks/models/lora\n",
        "\n",
        "!mkdir -p {gwebui_dir}/models/Lora\n",
        "!test -d {automatic}/models/Lora && test -d {gwebui_dir}/models/Lora && ln -sf {gwebui_dir}/models/Lora {automatic}/models/Lora\n",
        "\n",
        "#链接 VAE\n",
        "!mkdir -p {gwebui_dir}/models/VAE\n",
        "!test -d {automatic}/models/VAE && test -d {gwebui_dir}/models/VAE && ln -sf {gwebui_dir}/models/VAE {automatic}/models/VAE\n",
        "\n",
        "#链接 embeddings\n",
        "!mkdir -p {gwebui_dir}/embeddings\n",
        "!test -d {automatic}/models/embeddings && test -d {gwebui_dir}/embeddings && ln -sf {gwebui_dir}/embeddings {automatic}/models/embeddings"
      ]
    },
    {
      "cell_type": "code",
      "execution_count": null,
      "metadata": {
        "id": "b2atzLYpWH9t"
      },
      "outputs": [],
      "source": [
        "# 重新链接 models\n",
        "# 一般需要要运行\n",
        "!test -d {gwebui_dir}/models/Stable-diffusion && (test -z \"$(ls -A {gwebui_dir}/models/Stable-diffusion)\" || ln -sf {gwebui_dir}/models/Stable-diffusion/* {automatic}/models/Stable-diffusion/)\n",
        "!test -d {gwebui_dir}/extensions/{w}-additional-networks/models/lora && (test -z \"$(ls -A {gwebui_dir}/extensions/{w}-additional-networks/models/lora\" || ln -sf {gwebui_dir}/extensions/{w}-additional-networks/models/lora* {automatic}/extensions/{w}-additional-networks/models/lora)\n",
        "!test -d {gwebui_dir}/models/Lora && (test -z \"$(ls -A {gwebui_dir}/models/Lora)\" || ln -sf {gwebui_dir}/models/Lora/* {automatic}/models/Lora/)\n",
        "!test -d {gwebui_dir}/models/VAE && (test -z \"$(ls -A {gwebui_dir}/models/VAE)\" || ln -sf {gwebui_dir}/models/VAE* {automatic}/models/VAE)\n",
        "!test -d {gwebui_dir}/embeddings && (test -z \"$(ls -A {gwebui_dir}/embeddings)\" || ln -sf {gwebui_dir}/embeddings* {automatic}/models/embeddings)\n",
        "!test -d {gwebui_dir}/outputs && (test -z \"$(ls -A {gwebui_dir}/outputs)\" || ln -sf {gwebui_dir}/outputs* {automatic}/outputs)"
      ]
    },
    {
      "cell_type": "markdown",
      "metadata": {
        "id": "ScmQyVLFWH9t"
      },
      "source": [
        "# **以下是下载操作：**\n",
        "\n",
        "\n"
      ]
    },
    {
      "cell_type": "code",
      "execution_count": null,
      "metadata": {
        "id": "B-eVgFa0WH9t"
      },
      "outputs": [],
      "source": [
        "#下载模型到 SDwebui （colab）\n",
        "#下载主模型，请根据自己的需求下载，修改下载地址和文件名即可\n",
        "!wget https://civitai.com/api/download/models/11745 -O {automatic}/models/Stable-diffusion/Chilloutmix-Ni-pruned-fp32-fix.safetensors\n",
        "\n",
        "#下载 Lora 模型\n",
        "!wget https://civitai.com/api/download/models/16557 -O {automatic}/models/Lora/ShojoVibev_11.safetensors\n",
        "#!aria2c --console-log-level=error -c -x 16 -s 16 -k 1M https://civitai.com/api/download/models/16557 -d {automatic}/models/Lora -o ShojoVibev_11.safetensors"
      ]
    },
    {
      "cell_type": "code",
      "execution_count": null,
      "metadata": {
        "id": "z2DsLFLRWH9u"
      },
      "outputs": [],
      "source": [
        "#下载模型到 GoogleDrive\n",
        "#下载链接，文件名，models路径\n",
        "url = \"https://civitai.com/api/download/models/16557\" #models文件下载链接\n",
        "filename = \"ShojoVibev_11.safetensors\" #保存文件名 .safetensors or .pt\n",
        "save_dir = f\"{gwebui_dir}/models/Lora\"  # f\"{gwebui_dir}/models/Lora/Stable-diffusion\"\n",
        "\n",
        "!aria2c --console-log-level=error -c -x 16 -s 16 -k 1M -o {filename} -d {save_dir} {url}"
      ]
    },
    {
      "cell_type": "markdown",
      "metadata": {
        "id": "eywNItOCWH9u"
      },
      "source": [
        "# **以下是备份操作：**"
      ]
    },
    {
      "cell_type": "code",
      "execution_count": null,
      "metadata": {
        "id": "ny_rwRVzWH9u"
      },
      "outputs": [],
      "source": [
        "# 备份 config.json\n",
        "!test -f {automatic}/config.json && cp {automatic}/config.json {gwebui_dir}/config.json\n",
        "!test -f {automatic}/ui-config.json && cp {automatic}/ui-config.json {gwebui_dir}/ui-config.json"
      ]
    },
    {
      "cell_type": "code",
      "execution_count": null,
      "metadata": {
        "id": "fY8tJvuAWH9u"
      },
      "outputs": [],
      "source": [
        "# 使用云盘 config.json\n",
        "!test -d {gwebui_dir}/config.json && test -d {automatic}/config.json && rm -rf {automatic}/config.json\n",
        "!test -f {automatic}/config.json && cp {gwebui_dir}/config.json {automatic}/config.json"
      ]
    },
    {
      "cell_type": "code",
      "execution_count": null,
      "metadata": {
        "id": "qCXQiSH3WH9u"
      },
      "outputs": [],
      "source": [
        "# 备份 outputs 到 drive ，并链接。\n",
        "!test -d {gwebui_dir}/outputs && cp -r {automatic}/outputs {gwebui_dir}\n",
        "!test -d {gwebui_dir}/outputs && test -d {automatic}/outputs && rm -rf {automatic}/outputs\n",
        "!ln -s {gwebui_dir}/outputs {automatic}/outputs"
      ]
    },
    {
      "cell_type": "code",
      "execution_count": null,
      "metadata": {
        "id": "cnGCVMEDWH9u"
      },
      "outputs": [],
      "source": [
        "#备份 Lora\n",
        "# w_dir:colab文件目录；g_dir:云盘文件目录\n",
        "import os\n",
        "import shutil\n",
        "\n",
        "w_dir = f\"{automatic}/models/Lora\" #f\"{automatic}/models/Stable-diffusion\"\n",
        "g_dir = f\"{gwebui_dir}/models/Lora\" #f\"{gwebui_dir}/models/Stable-diffusion\"\n",
        "\n",
        "for filename in os.listdir(w_dir):\n",
        "    w_path = os.path.join(w_dir, filename)\n",
        "    g_path = os.path.join(g_dir, filename)\n",
        "\n",
        "    if os.path.isfile(w_path) and not os.path.exists(g_path):\n",
        "        shutil.copyfile(w_path, g_path)"
      ]
    },
    {
      "cell_type": "code",
      "execution_count": null,
      "metadata": {
        "id": "9RncfUNyWH9v"
      },
      "outputs": [],
      "source": [
        "#备份 VAE\n",
        "import os\n",
        "import shutil\n",
        "\n",
        "w_dir = f\"{automatic}/models/VAE\"\n",
        "g_dir = f\"{gwebui_dir}/models/VAE\"\n",
        "\n",
        "for filename in os.listdir(w_dir):\n",
        "    w_path = os.path.join(w_dir, filename)\n",
        "    g_path = os.path.join(g_dir, filename)\n",
        "\n",
        "    if os.path.isfile(w_path) and not os.path.exists(g_path):\n",
        "        shutil.copyfile(w_path, g_path)"
      ]
    },
    {
      "cell_type": "code",
      "execution_count": null,
      "metadata": {
        "id": "Qp1QoMJJWH9v"
      },
      "outputs": [],
      "source": [
        "#备份 models\n",
        "#主模型占容量较大，不建议备份。\n",
        "import os\n",
        "import shutil\n",
        "\n",
        "w_dir = f\"{automatic}/models/Stable-diffusion\"\n",
        "g_dir = f\"{gwebui_dir}/models/Stable-diffusion\"\n",
        "\n",
        "for filename in os.listdir(w_dir):\n",
        "    w_path = os.path.join(w_dir, filename)\n",
        "    g_path = os.path.join(g_dir, filename)\n",
        "\n",
        "    if os.path.isfile(w_path) and not os.path.exists(g_path):\n",
        "        shutil.copyfile(w_path, g_path)"
      ]
    }
  ],
  "metadata": {
    "language_info": {
      "name": "python"
    },
    "orig_nbformat": 4,
    "colab": {
      "provenance": [],
      "include_colab_link": true
    }
  },
  "nbformat": 4,
  "nbformat_minor": 0
}